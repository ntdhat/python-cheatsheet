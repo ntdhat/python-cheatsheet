{
 "cells": [
  {
   "cell_type": "code",
   "execution_count": 1,
   "metadata": {},
   "outputs": [],
   "source": [
    "# Import packages\n",
    "import pandas           # Regular import\n",
    "import pandas as pd     # Import with an alias\n",
    "from math import  sqrt  # Import submodule of a module"
   ]
  },
  {
   "cell_type": "code",
   "execution_count": 2,
   "metadata": {},
   "outputs": [
    {
     "name": "stdout",
     "output_type": "stream",
     "text": [
      "Arithmetic: +, -, *, /, **, //, %\n",
      "Assignment: =, +=, *=\n"
     ]
    }
   ],
   "source": [
    "# Operators:\n",
    "print('Arithmetic: +, -, *, /, **, //, %')\n",
    "print('Assignment: =, +=, *=')"
   ]
  },
  {
   "cell_type": "code",
   "execution_count": 3,
   "metadata": {},
   "outputs": [
    {
     "name": "stdout",
     "output_type": "stream",
     "text": [
      "x, y, z = 1, s, 0.25\n",
      "Numeric: int, float, and Complex number\n",
      "Boolean: 'True' or 'False'\n",
      "Sequence: String, List, Tuple\n",
      "Dictionary\n"
     ]
    }
   ],
   "source": [
    "# Variables & Assignment Operators\n",
    "\n",
    "# Regular Assignment\n",
    "x = 1\n",
    "y = 's'\n",
    "z = .25\n",
    "\n",
    "# Group Assignment\n",
    "x, y, z = 1, 's', .25\n",
    "\n",
    "print(f'x, y, z = {x}, {y}, {z}')\n",
    "\n",
    "# Variable:\n",
    "print('Numeric: int, float, and Complex number')\n",
    "print(\"Boolean: 'True' or 'False'\")\n",
    "print('Sequence: String, List, Tuple')\n",
    "print('Dictionary')"
   ]
  },
  {
   "cell_type": "code",
   "execution_count": 4,
   "metadata": {},
   "outputs": [
    {
     "name": "stdout",
     "output_type": "stream",
     "text": [
      "some string\n",
      "some string\n",
      "This's a string\n",
      "This's a string\n",
      "\"This is a string\"\n",
      "This a string\n",
      "HelloHello\n",
      "H\n",
      "3\n",
      "This is a string.\n"
     ]
    }
   ],
   "source": [
    "### Working with Strings\n",
    "\n",
    "# Initialize\n",
    "print(\"some string\")\n",
    "print('some string')\n",
    "print('This\\'s a string')\n",
    "print(\"This's a string\")\n",
    "print('\"This is a string\"')\n",
    "\n",
    "# Concatenation\n",
    "print('This' + ' ' + \"a string\")\n",
    "print('Hello' * 2)\n",
    "\n",
    "# Access Characters\n",
    "astr = 'Hello there!'\n",
    "print(astr[0])\n",
    "\n",
    "# String's length\n",
    "print(len('abc'))\n",
    "\n",
    "# Format Strings (f-strings)\n",
    "astr = 'a'\n",
    "print(f'This is {astr} string.')"
   ]
  },
  {
   "cell_type": "code",
   "execution_count": 6,
   "metadata": {},
   "outputs": [
    {
     "name": "stdout",
     "output_type": "stream",
     "text": [
      "<class 'int'>\n",
      "<class 'str'>\n",
      "<class 'float'>\n",
      "5\n",
      "13\n",
      "0\n"
     ]
    }
   ],
   "source": [
    "### Type and Type Conversion\n",
    "a, b, c = 5, '13', .25\n",
    "print(type(a))\n",
    "print(type(b))\n",
    "print(type(c))\n",
    "print(str(a))\n",
    "print(int(b))\n",
    "print(int(c))"
   ]
  },
  {
   "cell_type": "code",
   "execution_count": 12,
   "metadata": {},
   "outputs": [
    {
     "name": "stdout",
     "output_type": "stream",
     "text": [
      "3.4\n",
      "True\n",
      "a string\n",
      "[3.4, 'a string']\n",
      "[1, 3.4, 'a string']\n",
      "[3.4, 'a string', True]\n",
      "True\n",
      "False\n",
      "García--O'Kelly\n",
      "[1, 3.4, 'a string', True, 's']\n"
     ]
    }
   ],
   "source": [
    "### Data Structures\n",
    "\n",
    "## Lists\n",
    "\n",
    "random_things = [1, 3.4, 'a string', True]\n",
    "\n",
    "# Elements access\n",
    "print(random_things[1])\n",
    "print(random_things[-1])\n",
    "print(random_things[-2])\n",
    "\n",
    "# Slicing\n",
    "print(random_things[1:3])\n",
    "print(random_things[:3])\n",
    "print(random_things[1:])\n",
    "\n",
    "# Existance in a list\n",
    "print(3.4 in random_things)\n",
    "print('a string' not in random_things)\n",
    "\n",
    "# Joining\n",
    "print(\"--\".join([\"García\", \"O'Kelly\"]))\n",
    "\n",
    "# Appending\n",
    "random_things.append('s')\n",
    "print(random_things)"
   ]
  },
  {
   "cell_type": "code",
   "execution_count": 16,
   "metadata": {},
   "outputs": [
    {
     "name": "stdout",
     "output_type": "stream",
     "text": [
      "The dimensions are 52 x 40 x 100\n"
     ]
    }
   ],
   "source": [
    "## Tuples\n",
    "\n",
    "# Initializing\n",
    "dimension_1 = (52, 40, 100)\n",
    "dimension_2 = 60, 30, 30\n",
    "\n",
    "# Unpacking\n",
    "length, width, height = dimension_1\n",
    "print(f\"The dimensions are {length} x {width} x {height}\")"
   ]
  },
  {
   "cell_type": "code",
   "execution_count": 23,
   "metadata": {},
   "outputs": [
    {
     "name": "stdout",
     "output_type": "stream",
     "text": [
      "{1, 2, 3, 6}\n",
      "False\n",
      "{'banana', 'grapefruit', 'orange', 'watermelon', 'apple'}\n",
      "banana\n",
      "{'grapefruit', 'orange', 'watermelon', 'apple'}\n"
     ]
    }
   ],
   "source": [
    "## Sets\n",
    "\n",
    "# Initializing\n",
    "fruits = {\"apple\", \"banana\", \"orange\", \"grapefruit\"}\n",
    "numbers = [1, 2, 6, 3, 1, 1, 6]\n",
    "unique_nums = set(numbers)\n",
    "print(unique_nums)\n",
    "\n",
    "# Existance\n",
    "print(\"watermelon\" in fruits)\n",
    "\n",
    "# Adding an element\n",
    "fruits.add(\"watermelon\")\n",
    "print(fruits)\n",
    "\n",
    "# Removing a random element\n",
    "print(fruits.pop())\n",
    "print(fruits)"
   ]
  },
  {
   "cell_type": "code",
   "execution_count": 35,
   "metadata": {},
   "outputs": [
    {
     "name": "stdout",
     "output_type": "stream",
     "text": [
      "2\n",
      "4\n",
      "{'number': 2, 'weight': 4.002602, 'symbol': 'He'}\n",
      "1.00794\n",
      "True\n",
      "None\n",
      "NaN\n",
      "elements_2 =  {'hydrogen': {'number': 1, 'weight': 1.00794, 'symbol': 'H'}, 'helium': {'number': 2, 'weight': 4.002602, 'symbol': 'He'}, 'oxygen': {'number': 8, 'weight': 15.999, 'symbol': 'O'}}\n"
     ]
    }
   ],
   "source": [
    "## Dictionaries\n",
    "\n",
    "# Initializing\n",
    "elements = {\"hydrogen\": 1, \"helium\": 2, \"carbon\": 6}\n",
    "elements_2 = {\"hydrogen\": {\"number\": 1,\n",
    "                           \"weight\": 1.00794,\n",
    "                           \"symbol\": \"H\"},\n",
    "              \"helium\": {\"number\": 2,\n",
    "                         \"weight\": 4.002602,\n",
    "                         \"symbol\": \"He\"}}\n",
    "animals = {'dogs': [20, 10, 15, 8, 32, 15],\n",
    "           'cats': [3,4,2,8,2,4],\n",
    "           'rabbits': [2, 3, 3],\n",
    "           'fish': [0.3, 0.5, 0.8, 0.3, 1]}\n",
    "\n",
    "# Elements\n",
    "print(elements[\"helium\"])\n",
    "print(animals[\"cats\"][-1])\n",
    "print(elements_2[\"helium\"])\n",
    "print(elements_2[\"hydrogen\"][\"weight\"])\n",
    "\n",
    "# Existance\n",
    "print(\"carbon\" in elements)\n",
    "print(elements.get(\"dilithium\"))\n",
    "print(elements.get(\"oxy\", 'NaN'))\n",
    "\n",
    "# Adding elements\n",
    "oxygen = {\"number\":8, \"weight\":15.999, \"symbol\":\"O\"}\n",
    "elements_2[\"oxygen\"] = oxygen\n",
    "print('elements_2 = ', elements_2)"
   ]
  },
  {
   "cell_type": "code",
   "execution_count": 36,
   "metadata": {},
   "outputs": [
    {
     "name": "stdout",
     "output_type": "stream",
     "text": [
      "harvest the garden!\n"
     ]
    }
   ],
   "source": [
    "### Conditional Statements\n",
    "\n",
    "season = 'fall'\n",
    "if season == 'spring':\n",
    "    print('plant the garden!')\n",
    "elif season == 'summer':\n",
    "    print('water the garden!')\n",
    "elif season == 'fall':\n",
    "    print('harvest the garden!')\n",
    "elif season == 'winter':\n",
    "    print('stay indoors!')\n",
    "else:\n",
    "    print('unrecognized season')"
   ]
  }
 ],
 "metadata": {
  "kernelspec": {
   "display_name": "Python 3",
   "language": "python",
   "name": "python3"
  },
  "language_info": {
   "codemirror_mode": {
    "name": "ipython",
    "version": 3
   },
   "file_extension": ".py",
   "mimetype": "text/x-python",
   "name": "python",
   "nbconvert_exporter": "python",
   "pygments_lexer": "ipython3",
   "version": "3.7.6"
  }
 },
 "nbformat": 4,
 "nbformat_minor": 4
}
