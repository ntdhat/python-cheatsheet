{
 "cells": [
  {
   "cell_type": "code",
   "execution_count": 1,
   "metadata": {},
   "outputs": [],
   "source": [
    "# Import packages\n",
    "import pandas           # Regular import\n",
    "import pandas as pd     # Import with an alias\n",
    "from math import  sqrt  # Import submodule of a module"
   ]
  },
  {
   "cell_type": "code",
   "execution_count": 2,
   "metadata": {},
   "outputs": [
    {
     "name": "stdout",
     "output_type": "stream",
     "text": [
      "Arithmetic: +, -, *, /, **, //, %\n",
      "Assignment: =, +=, *=\n"
     ]
    }
   ],
   "source": [
    "# Operators:\n",
    "print('Arithmetic: +, -, *, /, **, //, %')\n",
    "print('Assignment: =, +=, *=')"
   ]
  },
  {
   "cell_type": "code",
   "execution_count": 3,
   "metadata": {},
   "outputs": [
    {
     "name": "stdout",
     "output_type": "stream",
     "text": [
      "x, y, z = 1, s, 0.25\n",
      "Numeric: int, float, and Complex number\n",
      "Boolean: 'True' or 'False'\n",
      "Sequence: String, List, Tuple\n",
      "Dictionary\n"
     ]
    }
   ],
   "source": [
    "# Variables & Assignment Operators\n",
    "\n",
    "# Regular Assignment\n",
    "x = 1\n",
    "y = 's'\n",
    "z = .25\n",
    "\n",
    "# Group Assignment\n",
    "x, y, z = 1, 's', .25\n",
    "\n",
    "print(f'x, y, z = {x}, {y}, {z}')\n",
    "\n",
    "# Variable:\n",
    "print('Numeric: int, float, and Complex number')\n",
    "print(\"Boolean: 'True' or 'False'\")\n",
    "print('Sequence: String, List, Tuple')\n",
    "print('Dictionary')"
   ]
  },
  {
   "cell_type": "code",
   "execution_count": 4,
   "metadata": {},
   "outputs": [
    {
     "name": "stdout",
     "output_type": "stream",
     "text": [
      "some string\n",
      "some string\n",
      "This's a string\n",
      "This's a string\n",
      "\"This is a string\"\n",
      "This a string\n",
      "HelloHello\n",
      "H\n",
      "3\n",
      "This is a string.\n"
     ]
    }
   ],
   "source": [
    "### Working with Strings\n",
    "\n",
    "# Initialize\n",
    "print(\"some string\")\n",
    "print('some string')\n",
    "print('This\\'s a string')\n",
    "print(\"This's a string\")\n",
    "print('\"This is a string\"')\n",
    "\n",
    "# Concatenation\n",
    "print('This' + ' ' + \"a string\")\n",
    "print('Hello' * 2)\n",
    "\n",
    "# Access Characters\n",
    "astr = 'Hello there!'\n",
    "print(astr[0])\n",
    "\n",
    "# String's length\n",
    "print(len('abc'))\n",
    "\n",
    "# Format Strings (f-strings)\n",
    "astr = 'a'\n",
    "print(f'This is {astr} string.')"
   ]
  },
  {
   "cell_type": "code",
   "execution_count": 6,
   "metadata": {},
   "outputs": [
    {
     "name": "stdout",
     "output_type": "stream",
     "text": [
      "<class 'int'>\n",
      "<class 'str'>\n",
      "<class 'float'>\n",
      "5\n",
      "13\n",
      "0\n"
     ]
    }
   ],
   "source": [
    "### Type and Type Conversion\n",
    "a, b, c = 5, '13', .25\n",
    "print(type(a))\n",
    "print(type(b))\n",
    "print(type(c))\n",
    "print(str(a))\n",
    "print(int(b))\n",
    "print(int(c))"
   ]
  },
  {
   "cell_type": "code",
   "execution_count": null,
   "metadata": {},
   "outputs": [],
   "source": []
  }
 ],
 "metadata": {
  "kernelspec": {
   "display_name": "Python 3",
   "language": "python",
   "name": "python3"
  },
  "language_info": {
   "codemirror_mode": {
    "name": "ipython",
    "version": 3
   },
   "file_extension": ".py",
   "mimetype": "text/x-python",
   "name": "python",
   "nbconvert_exporter": "python",
   "pygments_lexer": "ipython3",
   "version": "3.7.6"
  }
 },
 "nbformat": 4,
 "nbformat_minor": 4
}
