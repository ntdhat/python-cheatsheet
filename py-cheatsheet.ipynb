{
 "cells": [
  {
   "cell_type": "code",
   "execution_count": 1,
   "metadata": {},
   "outputs": [],
   "source": [
    "# Import packages\n",
    "import pandas           # Regular import\n",
    "import pandas as pd     # Import with an alias\n",
    "from math import  sqrt,   # Import submodules of a module"
   ]
  },
  {
   "cell_type": "code",
   "execution_count": 2,
   "metadata": {},
   "outputs": [
    {
     "name": "stdout",
     "output_type": "stream",
     "text": [
      "Arithmetic: +, -, *, /, **, //, %\n",
      "Assignment: =, +=, *=\n"
     ]
    }
   ],
   "source": [
    "# Operators:\n",
    "print('Arithmetic: +, -, *, /, **, //, %')\n",
    "print('Assignment: =, +=, *=')"
   ]
  },
  {
   "cell_type": "code",
   "execution_count": 3,
   "metadata": {},
   "outputs": [
    {
     "name": "stdout",
     "output_type": "stream",
     "text": [
      "x, y, z = 1, s, 0.25\n",
      "Numeric: int, float, and Complex number\n",
      "Boolean: 'True' or 'False'\n",
      "Sequence: String, List, Tuple\n",
      "Dictionary\n"
     ]
    }
   ],
   "source": [
    "# Variables & Assignment Operators\n",
    "\n",
    "# Regular Assignment\n",
    "x = 1\n",
    "y = 's'\n",
    "z = .25\n",
    "\n",
    "# Group Assignment\n",
    "x, y, z = 1, 's', .25\n",
    "\n",
    "print(f'x, y, z = {x}, {y}, {z}')\n",
    "\n",
    "# Variable:\n",
    "print('Numeric: int, float, and Complex number')\n",
    "print(\"Boolean: 'True' or 'False'\")\n",
    "print('Sequence: String, List, Tuple')\n",
    "print('Dictionary')"
   ]
  },
  {
   "cell_type": "code",
   "execution_count": 4,
   "metadata": {},
   "outputs": [
    {
     "name": "stdout",
     "output_type": "stream",
     "text": [
      "some string\n",
      "some string\n",
      "This's a string\n",
      "This's a string\n",
      "\"This is a string\"\n",
      "This a string\n",
      "HelloHello\n",
      "H\n",
      "3\n",
      "This is a string.\n"
     ]
    }
   ],
   "source": [
    "### Working with Strings\n",
    "\n",
    "# Initialize\n",
    "print(\"some string\")\n",
    "print('some string')\n",
    "print('This\\'s a string')\n",
    "print(\"This's a string\")\n",
    "print('\"This is a string\"')\n",
    "\n",
    "# Concatenation\n",
    "print('This' + ' ' + \"a string\")\n",
    "print('Hello' * 2)\n",
    "\n",
    "# Access Characters\n",
    "astr = 'Hello there!'\n",
    "print(astr[0])\n",
    "\n",
    "# String's length\n",
    "print(len('abc'))\n",
    "\n",
    "# Format Strings (f-strings)\n",
    "astr = 'a'\n",
    "print(f'This is {astr} string.')"
   ]
  },
  {
   "cell_type": "code",
   "execution_count": 5,
   "metadata": {},
   "outputs": [
    {
     "name": "stdout",
     "output_type": "stream",
     "text": [
      "<class 'int'>\n",
      "<class 'str'>\n",
      "<class 'float'>\n",
      "5\n",
      "13\n",
      "0\n"
     ]
    }
   ],
   "source": [
    "### Type and Type Conversion\n",
    "a, b, c = 5, '13', .25\n",
    "print(type(a))\n",
    "print(type(b))\n",
    "print(type(c))\n",
    "print(str(a))\n",
    "print(int(b))\n",
    "print(int(c))"
   ]
  },
  {
   "cell_type": "code",
   "execution_count": 6,
   "metadata": {},
   "outputs": [
    {
     "name": "stdout",
     "output_type": "stream",
     "text": [
      "3.4\n",
      "True\n",
      "a string\n",
      "[3.4, 'a string']\n",
      "[1, 3.4, 'a string']\n",
      "[3.4, 'a string', True]\n",
      "True\n",
      "False\n",
      "García--O'Kelly\n",
      "[1, 3.4, 'a string', True, 's']\n",
      "squares 1: [0, 1, 4, 9, 16, 25, 36, 49, 64]\n",
      "squares 2: [0, 4, 16, 36, 64]\n",
      "squares 3: [0, -1, 4, -1, 16, -1, 36, -1, 64]\n"
     ]
    }
   ],
   "source": [
    "### Data Structures\n",
    "\n",
    "## Lists\n",
    "\n",
    "random_things = [1, 3.4, 'a string', True]\n",
    "\n",
    "# Elements access\n",
    "print(random_things[1])\n",
    "print(random_things[-1])\n",
    "print(random_things[-2])\n",
    "\n",
    "# Slicing\n",
    "print(random_things[1:3])\n",
    "print(random_things[:3])\n",
    "print(random_things[1:])\n",
    "\n",
    "# Existance in a list\n",
    "print(3.4 in random_things)\n",
    "print('a string' not in random_things)\n",
    "\n",
    "# Joining\n",
    "print(\"--\".join([\"García\", \"O'Kelly\"]))\n",
    "\n",
    "# Appending\n",
    "random_things.append('s')\n",
    "print(random_things)\n",
    "\n",
    "# Comprehension\n",
    "squares = [x**2 for x in range(9)]\n",
    "print(f'squares 1: {squares}')\n",
    "\n",
    "squares = [x**2 for x in range(9) if x % 2 == 0]\n",
    "print(f'squares 2: {squares}')\n",
    "\n",
    "# Note: if the condition has an else, we need to move\n",
    "#       the condition statement to the front of the list comp.\n",
    "squares = [x**2 if x%2 == 0 else -1 for x in range(9)]\n",
    "print(f'squares 3: {squares}')"
   ]
  },
  {
   "cell_type": "code",
   "execution_count": 7,
   "metadata": {},
   "outputs": [
    {
     "name": "stdout",
     "output_type": "stream",
     "text": [
      "The dimensions are 52 x 40 x 100\n"
     ]
    }
   ],
   "source": [
    "## Tuples\n",
    "\n",
    "# Initializing\n",
    "dimension_1 = (52, 40, 100)\n",
    "dimension_2 = 60, 30, 30\n",
    "\n",
    "# Unpacking\n",
    "length, width, height = dimension_1\n",
    "print(f\"The dimensions are {length} x {width} x {height}\")"
   ]
  },
  {
   "cell_type": "code",
   "execution_count": 8,
   "metadata": {},
   "outputs": [
    {
     "name": "stdout",
     "output_type": "stream",
     "text": [
      "{1, 2, 3, 6}\n",
      "False\n",
      "{'banana', 'orange', 'watermelon', 'apple', 'grapefruit'}\n",
      "banana\n",
      "{'orange', 'watermelon', 'apple', 'grapefruit'}\n"
     ]
    }
   ],
   "source": [
    "## Sets\n",
    "\n",
    "# Initializing\n",
    "fruits = {\"apple\", \"banana\", \"orange\", \"grapefruit\"}\n",
    "numbers = [1, 2, 6, 3, 1, 1, 6]\n",
    "unique_nums = set(numbers)\n",
    "print(unique_nums)\n",
    "\n",
    "# Existance\n",
    "print(\"watermelon\" in fruits)\n",
    "\n",
    "# Adding an element\n",
    "fruits.add(\"watermelon\")\n",
    "print(fruits)\n",
    "\n",
    "# Removing a random element\n",
    "print(fruits.pop())\n",
    "print(fruits)"
   ]
  },
  {
   "cell_type": "code",
   "execution_count": 9,
   "metadata": {},
   "outputs": [
    {
     "name": "stdout",
     "output_type": "stream",
     "text": [
      "2\n",
      "4\n",
      "{'number': 2, 'weight': 4.002602, 'symbol': 'He'}\n",
      "1.00794\n",
      "True\n",
      "None\n",
      "NaN\n",
      "elements_2 =  {'hydrogen': {'number': 1, 'weight': 1.00794, 'symbol': 'H'}, 'helium': {'number': 2, 'weight': 4.002602, 'symbol': 'He'}, 'oxygen': {'number': 8, 'weight': 15.999, 'symbol': 'O'}}\n"
     ]
    }
   ],
   "source": [
    "## Dictionaries\n",
    "\n",
    "# Initializing\n",
    "elements = {\"hydrogen\": 1, \"helium\": 2, \"carbon\": 6}\n",
    "elements_2 = {\"hydrogen\": {\"number\": 1,\n",
    "                           \"weight\": 1.00794,\n",
    "                           \"symbol\": \"H\"},\n",
    "              \"helium\": {\"number\": 2,\n",
    "                         \"weight\": 4.002602,\n",
    "                         \"symbol\": \"He\"}}\n",
    "animals = {'dogs': [20, 10, 15, 8, 32, 15],\n",
    "           'cats': [3,4,2,8,2,4],\n",
    "           'rabbits': [2, 3, 3],\n",
    "           'fish': [0.3, 0.5, 0.8, 0.3, 1]}\n",
    "\n",
    "# Elements\n",
    "print(elements[\"helium\"])\n",
    "print(animals[\"cats\"][-1])\n",
    "print(elements_2[\"helium\"])\n",
    "print(elements_2[\"hydrogen\"][\"weight\"])\n",
    "\n",
    "# Existance\n",
    "print(\"carbon\" in elements)\n",
    "print(elements.get(\"dilithium\"))\n",
    "print(elements.get(\"oxy\", 'NaN'))\n",
    "\n",
    "# Adding elements\n",
    "oxygen = {\"number\":8, \"weight\":15.999, \"symbol\":\"O\"}\n",
    "elements_2[\"oxygen\"] = oxygen\n",
    "print('elements_2 = ', elements_2)"
   ]
  },
  {
   "cell_type": "code",
   "execution_count": 10,
   "metadata": {},
   "outputs": [
    {
     "name": "stdout",
     "output_type": "stream",
     "text": [
      "harvest the garden!\n"
     ]
    }
   ],
   "source": [
    "### Conditional Statements\n",
    "\n",
    "season = 'fall'\n",
    "if season == 'spring':\n",
    "    print('plant the garden!')\n",
    "elif season == 'summer':\n",
    "    print('water the garden!')\n",
    "elif season == 'fall':\n",
    "    print('harvest the garden!')\n",
    "elif season == 'winter':\n",
    "    print('stay indoors!')\n",
    "else:\n",
    "    print('unrecognized season')"
   ]
  },
  {
   "cell_type": "code",
   "execution_count": 11,
   "metadata": {},
   "outputs": [
    {
     "name": "stdout",
     "output_type": "stream",
     "text": [
      "new york city\n",
      "mountain view\n",
      "chicago\n",
      "los angeles\n",
      "Done\n",
      "\n",
      "Hello!\n",
      "Hello!\n",
      "Hello!\n",
      "Done\n",
      "\n",
      "1\n",
      "3\n",
      "5\n",
      "7\n",
      "9\n",
      "11\n",
      "13\n",
      "15\n",
      "17\n",
      "19\n",
      "Done\n",
      "\n",
      "['New York City', 'Mountain View', 'Chicago', 'Los Angeles']\n"
     ]
    }
   ],
   "source": [
    "### Loops\n",
    "\n",
    "## Working with Lists\n",
    "\n",
    "cities = ['new york city', 'mountain view', 'chicago', 'los angeles']\n",
    "\n",
    "# Iterating\n",
    "for city in cities:\n",
    "    print(city)\n",
    "print('Done\\n')\n",
    "\n",
    "for i in range(3):\n",
    "    print(\"Hello!\")\n",
    "print('Done\\n')\n",
    "\n",
    "for i in range(1, 20, 2):\n",
    "    print(i)\n",
    "print('Done\\n')\n",
    "\n",
    "# Modifying Lists\n",
    "for index in range(len(cities)):\n",
    "    cities[index] = cities[index].title()\n",
    "print(cities)"
   ]
  },
  {
   "cell_type": "code",
   "execution_count": 12,
   "metadata": {},
   "outputs": [
    {
     "name": "stdout",
     "output_type": "stream",
     "text": [
      "{'great': 2, 'expectations': 1, 'the': 2, 'adventures': 2, 'of': 2, 'sherlock': 1, 'holmes': 1, 'gasby': 1, 'hamlet': 1, 'huckleberry': 1, 'fin': 1}\n",
      "==========\n",
      "great\n",
      "expectations\n",
      "the\n",
      "adventures\n",
      "of\n",
      "sherlock\n",
      "holmes\n",
      "gasby\n",
      "hamlet\n",
      "huckleberry\n",
      "fin\n",
      "==========\n",
      "great : 2\n",
      "expectations : 1\n",
      "the : 2\n",
      "adventures : 2\n",
      "of : 2\n",
      "sherlock : 1\n",
      "holmes : 1\n",
      "gasby : 1\n",
      "hamlet : 1\n",
      "huckleberry : 1\n",
      "fin : 1\n"
     ]
    }
   ],
   "source": [
    "## Working with Dictionaries\n",
    "\n",
    "# Create a dictionary using loops\n",
    "book_title =  ['great', 'expectations','the',\n",
    "               'adventures', 'of', 'sherlock',\n",
    "               'holmes','the','great',\n",
    "               'gasby','hamlet','adventures',\n",
    "               'of','huckleberry','fin']\n",
    "word_counter = {}\n",
    "for word in book_title:\n",
    "    word_counter[word] = word_counter.get(word, 0) + 1\n",
    "print(word_counter)\n",
    "\n",
    "# Iterating\n",
    "print('==========')\n",
    "for key in word_counter:\n",
    "    print(key)\n",
    "\n",
    "print('==========')\n",
    "for key, value in word_counter.items():\n",
    "    print(f\"{key} : {value}\")"
   ]
  },
  {
   "cell_type": "code",
   "execution_count": 13,
   "metadata": {},
   "outputs": [
    {
     "name": "stdout",
     "output_type": "stream",
     "text": [
      "[10, 8]\n"
     ]
    }
   ],
   "source": [
    "## While loops\n",
    "\n",
    "card_deck = [4, 11, 8, 5, 13, 2, 8, 10]\n",
    "hand = []\n",
    "while sum(hand)  < 17:\n",
    "    hand.append(card_deck.pop())\n",
    "print(hand)"
   ]
  },
  {
   "cell_type": "code",
   "execution_count": 14,
   "metadata": {},
   "outputs": [
    {
     "name": "stdout",
     "output_type": "stream",
     "text": [
      "a: 1\n",
      "b: 2\n",
      "c: 3\n"
     ]
    }
   ],
   "source": [
    "### Zipping\n",
    "\n",
    "# Return an iterator that combines many iterables into 1 sequence of tuples,\n",
    "# each tuple contains the elements in that position from all iterables.\n",
    "\n",
    "# Zip\n",
    "letters = ['a', 'b', 'c']\n",
    "nums = [1, 2, 3]\n",
    "\n",
    "# Unpacking in a loop\n",
    "for letter, num in zip(letters, nums):\n",
    "    print(\"{}: {}\".format(letter, num))\n",
    "\n",
    "# Unzip\n",
    "some_list = [('a', 1), ('b', 2), ('c', 3)]\n",
    "letters, nums = zip(*some_list)"
   ]
  },
  {
   "cell_type": "code",
   "execution_count": 15,
   "metadata": {},
   "outputs": [
    {
     "name": "stdout",
     "output_type": "stream",
     "text": [
      "0 a\n",
      "1 b\n",
      "2 c\n",
      "3 d\n",
      "4 e\n"
     ]
    }
   ],
   "source": [
    "### Enumerates\n",
    "\n",
    "# Return an iterator of tuples containning indices & values\n",
    "# of a list (often used to get the index along with each element)\n",
    "\n",
    "letters = ['a', 'b', 'c', 'd', 'e']\n",
    "for i, letter in enumerate(letters):\n",
    "    print(i, letter)"
   ]
  },
  {
   "cell_type": "code",
   "execution_count": 16,
   "metadata": {},
   "outputs": [
    {
     "data": {
      "text/plain": [
       "6"
      ]
     },
     "execution_count": 16,
     "metadata": {},
     "output_type": "execute_result"
    }
   ],
   "source": [
    "### Functions\n",
    "\n",
    "# Delaration\n",
    "def reg_func(arg1, arg2):\n",
    "    # do sth here\n",
    "    return\n",
    "\n",
    "# Function with default parameters\n",
    "def func_with_default_params(arg1, arg2=2):\n",
    "    # do sth here\n",
    "    return\n",
    "\n",
    "# Lambda\n",
    "multiply = lambda x, y: x*y\n",
    "multiply(2, 3)\n",
    "\n",
    "# Note: variables declared outside of the func can't be modified inside the func"
   ]
  },
  {
   "cell_type": "code",
   "execution_count": 17,
   "metadata": {},
   "outputs": [
    {
     "name": "stdout",
     "output_type": "stream",
     "text": [
      "Enter your full name: dat\n",
      "Hello Dat!\n"
     ]
    }
   ],
   "source": [
    "### User's Raw Input\n",
    "name = str(input('Enter your full name: '))\n",
    "print(f'Hello {name.title()}!')"
   ]
  },
  {
   "cell_type": "code",
   "execution_count": 4,
   "metadata": {},
   "outputs": [
    {
     "name": "stdout",
     "output_type": "stream",
     "text": [
      "Enter a number: d\n",
      "That is not a number!\n",
      "invalid literal for int() with base 10: 'd'\n",
      "This is the end of try-except block!\n",
      "Enter a number: 2\n",
      "That is a number\n",
      "This is the end of try-except block!\n"
     ]
    }
   ],
   "source": [
    "### Handling Errors\n",
    "\n",
    "while True:\n",
    "    try:\n",
    "        x = int(input('Enter a number: '))\n",
    "    except ValueError as e:\n",
    "        print('That is not a number!')\n",
    "        print(e)\n",
    "    else:\n",
    "        print('That is a number')\n",
    "        break\n",
    "    finally:\n",
    "        print('This is the end of try-except block!')"
   ]
  },
  {
   "cell_type": "code",
   "execution_count": null,
   "metadata": {},
   "outputs": [],
   "source": []
  }
 ],
 "metadata": {
  "kernelspec": {
   "display_name": "Python 3",
   "language": "python",
   "name": "python3"
  },
  "language_info": {
   "codemirror_mode": {
    "name": "ipython",
    "version": 3
   },
   "file_extension": ".py",
   "mimetype": "text/x-python",
   "name": "python",
   "nbconvert_exporter": "python",
   "pygments_lexer": "ipython3",
   "version": "3.7.6"
  }
 },
 "nbformat": 4,
 "nbformat_minor": 4
}
